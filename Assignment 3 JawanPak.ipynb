{
 "cells": [
  {
   "cell_type": "code",
   "execution_count": 6,
   "metadata": {},
   "outputs": [
    {
     "name": "stdout",
     "output_type": "stream",
     "text": [
      "Twinkle, twinkle, little star,\n",
      "\tHow I wonder what you are!\n",
      "\t\tUp above the world so high,\n",
      "\t\tLike a diamond in the sky.\n",
      "Twinkle, twinkle, little star,\n",
      "\tHow I wonder what you are\n"
     ]
    }
   ],
   "source": [
    "#Question 1\n",
    "print(\"Twinkle, twinkle, little star,\\n\\tHow I wonder what you are!\\n\\t\\tUp above the world so high,\\n\\t\\tLike a diamond in the sky.\\nTwinkle, twinkle, little star,\\n\\tHow I wonder what you are\")"
   ]
  },
  {
   "cell_type": "code",
   "execution_count": 17,
   "metadata": {},
   "outputs": [
    {
     "name": "stdout",
     "output_type": "stream",
     "text": [
      "Current version of python is 3.8.3 (default, Jul  2 2020, 17:30:36) [MSC v.1916 64 bit (AMD64)]\n"
     ]
    }
   ],
   "source": [
    "#Question 2\n",
    "import sys\n",
    "print(\"Current version of python is\", sys.version);"
   ]
  },
  {
   "cell_type": "code",
   "execution_count": 18,
   "metadata": {},
   "outputs": [
    {
     "name": "stdout",
     "output_type": "stream",
     "text": [
      "Current date and time is:  2021-10-23 23:32:58.248982\n"
     ]
    }
   ],
   "source": [
    "#Question 3\n",
    "import datetime\n",
    "print(\"Current date and time is: \",datetime.datetime.now())"
   ]
  },
  {
   "cell_type": "code",
   "execution_count": 19,
   "metadata": {},
   "outputs": [
    {
     "name": "stdout",
     "output_type": "stream",
     "text": [
      "Enter radius of circle5\n",
      "Area of circle is:  78.55\n"
     ]
    }
   ],
   "source": [
    "#Question 4\n",
    "radius=float(input(\"Enter radius of circle\"));\n",
    "Area=3.142*radius*radius\n",
    "print(\"Area of circle is: \",Area);"
   ]
  },
  {
   "cell_type": "code",
   "execution_count": 24,
   "metadata": {},
   "outputs": [
    {
     "name": "stdout",
     "output_type": "stream",
     "text": [
      "Enter your first name Chander\n",
      "Enter your last name Harwani\n",
      "Harwani Chander\n",
      "inawraH rednahC\n"
     ]
    }
   ],
   "source": [
    "#Question 5\n",
    "Fname=input(\"Enter your first name \");\n",
    "Lname=input(\"Enter your last name \");\n",
    "print(Lname+\" \"+Fname)\n",
    "Name= Fname+\" \"+Lname\n",
    "Reverse=Name[::-1];\n",
    "print(Reverse);"
   ]
  },
  {
   "cell_type": "code",
   "execution_count": 26,
   "metadata": {},
   "outputs": [
    {
     "name": "stdout",
     "output_type": "stream",
     "text": [
      "Enter your first input 8\n",
      "Enter your second input C\n",
      "Addition is:  8C\n"
     ]
    }
   ],
   "source": [
    "#Question 6\n",
    "input1=input(\"Enter your first input \");\n",
    "input2=input(\"Enter your second input \");\n",
    "add=input1+input2\n",
    "print (\"Addition is: \",add);"
   ]
  },
  {
   "cell_type": "code",
   "execution_count": 31,
   "metadata": {},
   "outputs": [
    {
     "name": "stdout",
     "output_type": "stream",
     "text": [
      "Enter marks of the first subject: 89\n",
      "Enter marks of the second subject: 8\n",
      "Enter marks of the third subject: 89\n",
      "Enter marks of the fourth subject: 79\n",
      "Enter marks of the fifth subject: 48\n",
      "Grade: D\n"
     ]
    }
   ],
   "source": [
    "#Question 7\n",
    "math=float(input(\"Enter marks of the first subject: \"))\n",
    "english=float(input(\"Enter marks of the second subject: \"))\n",
    "urdu=float(input(\"Enter marks of the third subject: \"))\n",
    "science=float(input(\"Enter marks of the fourth subject: \"))\n",
    "arts=float(input(\"Enter marks of the fifth subject: \"))\n",
    "avg=(math+english+urdu+science+arts)/5\n",
    "if(avg>=90 and avg<101):\n",
    "    print(\"Grade: A\")\n",
    "elif(avg>=80 and avg<90):\n",
    "    print(\"Grade: B\")\n",
    "elif(avg>=70 and avg<80):\n",
    "    print(\"Grade: C\")\n",
    "elif(avg>=60 and avg<70):\n",
    "    print(\"Grade: D\")\n",
    "else:\n",
    "    print(\"Grade: F\")"
   ]
  },
  {
   "cell_type": "code",
   "execution_count": 33,
   "metadata": {},
   "outputs": [
    {
     "name": "stdout",
     "output_type": "stream",
     "text": [
      "Enter number8\n",
      "Given number is even\n"
     ]
    }
   ],
   "source": [
    "#Question 8\n",
    "num=int(input(\"Enter number\"));\n",
    "if(num%2==0):\n",
    "    print(\"Given number is even\");\n",
    "else:\n",
    "    print(\"Given number is odd\");"
   ]
  },
  {
   "cell_type": "code",
   "execution_count": 43,
   "metadata": {},
   "outputs": [
    {
     "name": "stdout",
     "output_type": "stream",
     "text": [
      "8\n",
      "8\n"
     ]
    }
   ],
   "source": [
    "#Question 9\n",
    "li=[0,1,2,3,4,5,6,7]\n",
    "print(len(li));\n",
    "#Second method\n",
    "a=0\n",
    "for items in li:\n",
    "    a=a+1;\n",
    "print (a)"
   ]
  },
  {
   "cell_type": "code",
   "execution_count": 45,
   "metadata": {},
   "outputs": [
    {
     "name": "stdout",
     "output_type": "stream",
     "text": [
      "28\n"
     ]
    }
   ],
   "source": [
    "#Question 10\n",
    "li=[0,1,2,3,4,5,6,7]\n",
    "s=0;\n",
    "for items in li:\n",
    "    s+=items\n",
    "print(s)"
   ]
  },
  {
   "cell_type": "code",
   "execution_count": 48,
   "metadata": {},
   "outputs": [
    {
     "name": "stdout",
     "output_type": "stream",
     "text": [
      "7\n"
     ]
    }
   ],
   "source": [
    "#Question 11\n",
    "li=[0,1,2,3,4,5,6,7]\n",
    "num=0\n",
    "for items in li:\n",
    "    if items>num:\n",
    "        num=items\n",
    "print(num)"
   ]
  },
  {
   "cell_type": "code",
   "execution_count": 55,
   "metadata": {},
   "outputs": [
    {
     "name": "stdout",
     "output_type": "stream",
     "text": [
      "1\n",
      "1\n",
      "2\n",
      "3\n"
     ]
    }
   ],
   "source": [
    "#Question 12\n",
    "a = [1,1,2,3,5,8,13,21,34,55,89]\n",
    "for items in a:\n",
    "    if(items<5):\n",
    "        print (items)"
   ]
  },
  {
   "cell_type": "code",
   "execution_count": null,
   "metadata": {},
   "outputs": [],
   "source": []
  }
 ],
 "metadata": {
  "kernelspec": {
   "display_name": "Python 3",
   "language": "python",
   "name": "python3"
  },
  "language_info": {
   "codemirror_mode": {
    "name": "ipython",
    "version": 3
   },
   "file_extension": ".py",
   "mimetype": "text/x-python",
   "name": "python",
   "nbconvert_exporter": "python",
   "pygments_lexer": "ipython3",
   "version": "3.8.3"
  }
 },
 "nbformat": 4,
 "nbformat_minor": 4
}
