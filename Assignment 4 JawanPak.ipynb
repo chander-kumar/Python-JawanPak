{
 "cells": [
  {
   "cell_type": "code",
   "execution_count": 25,
   "metadata": {},
   "outputs": [
    {
     "name": "stdout",
     "output_type": "stream",
     "text": [
      "Select number to choose operation: \n",
      "1.Addition \n",
      "2.Subtraction \n",
      "3.Multiplication \n",
      "4.Division \n",
      "5.Power\n",
      "5\n",
      "Enter first number 2\n",
      "Enter second number 3\n",
      "8.0\n"
     ]
    }
   ],
   "source": [
    "#Calculator\n",
    "def addition(x,y):\n",
    "    return x+y;\n",
    "def subtaction (x,y):\n",
    "    return x-y;\n",
    "def division(x,y):\n",
    "    return x/y;\n",
    "def multiplication(x,y):\n",
    "    return x*y;\n",
    "def power(x,y):\n",
    "    return x**y;\n",
    "\n",
    "print(\"Select number to choose operation: \\n1.Addition \\n2.Subtraction \\n3.Multiplication \\n4.Division \\n5.Power\")\n",
    "a=int(input());\n",
    "x=float(input('Enter first number '));\n",
    "y=float(input('Enter second number '));\n",
    "if a==1:\n",
    "    print(addition(x,y))\n",
    "elif a==2:\n",
    "        print(subraction(x,y))\n",
    "elif a==3:\n",
    "        print(multiplication(x,y))\n",
    "elif a==4:\n",
    "        print(division(x,y))\n",
    "elif a==5:\n",
    "        print(power(x,y))\n",
    "else:\n",
    "        print(\"Choose a valid operation to be performed\")\n"
   ]
  },
  {
   "cell_type": "code",
   "execution_count": 48,
   "metadata": {},
   "outputs": [
    {
     "name": "stdout",
     "output_type": "stream",
     "text": [
      "Numeric value is present at index: 2\n",
      "Numeric value is present at index: 4\n"
     ]
    }
   ],
   "source": [
    "#Question 2\n",
    "alist=['a','b',4.0,'c',5,'d']\n",
    "for x in alist:\n",
    "    if((isinstance(x,int)) or (isinstance(x,float))):\n",
    "           print(\"Numeric value is present at index:\", alist.index(x));\n",
    "           "
   ]
  },
  {
   "cell_type": "code",
   "execution_count": 61,
   "metadata": {},
   "outputs": [
    {
     "name": "stdout",
     "output_type": "stream",
     "text": [
      "{'name': 'Chander', 'gender': 'male', 'age': ''}\n"
     ]
    }
   ],
   "source": [
    "#Question 3\n",
    "dic={\"name\":\"Chander\",\"gender\":\"male\"}\n",
    "dic[\"age\"]=\"\"\n",
    "print(dic)"
   ]
  },
  {
   "cell_type": "code",
   "execution_count": 79,
   "metadata": {},
   "outputs": [
    {
     "name": "stdout",
     "output_type": "stream",
     "text": [
      "Sum of numeric item is dictionary is:  10.3\n"
     ]
    }
   ],
   "source": [
    "#question 4\n",
    "aDic={\"num1\":3,\"num2\":2.3,\"element\":\"hello\",\"num3\":5}\n",
    "sum=0\n",
    "for x in aDic:\n",
    "    if((isinstance(aDic[x],int)) or (isinstance(aDic[x],float))):\n",
    "        sum+=aDic[x];\n",
    "print(\"Sum of numeric item is dictionary is: \",sum)\n",
    "           "
   ]
  },
  {
   "cell_type": "code",
   "execution_count": 81,
   "metadata": {},
   "outputs": [
    {
     "name": "stdout",
     "output_type": "stream",
     "text": [
      "2\n",
      "3\n",
      "4\n",
      "5\n",
      "Chander\n"
     ]
    }
   ],
   "source": [
    "#question 5\n",
    "l=[1,2,3,\"Chander\",4,5,2,3,4,7,9,5,\"Chander\"]\n",
    "l1=[]\n",
    "for i in l:\n",
    "    if i not in l1:\n",
    "        l1.append(i)\n",
    "    else:\n",
    "        print(i)"
   ]
  },
  {
   "cell_type": "code",
   "execution_count": 91,
   "metadata": {},
   "outputs": [
    {
     "name": "stdout",
     "output_type": "stream",
     "text": [
      "Enter key to check: ch\n",
      "key not present\n"
     ]
    }
   ],
   "source": [
    "#Question 6:\n",
    "dic={\"name\":\"Chander\",\"gender\":\"male\"}\n",
    "key=input(\"Enter key to check: \");\n",
    "#Method1\n",
    "if key in dic:\n",
    "    print(\"Key found\")\n",
    "else:\n",
    "    print(\"key not present\")\n",
    "#method 2\n",
    "for x in dic:\n",
    "    if x==key:\n",
    "        print(\"Key is present. \\nValue against key is \",dic[x])\n",
    "        break\n"
   ]
  },
  {
   "cell_type": "code",
   "execution_count": null,
   "metadata": {},
   "outputs": [],
   "source": []
  },
  {
   "cell_type": "code",
   "execution_count": null,
   "metadata": {},
   "outputs": [],
   "source": []
  }
 ],
 "metadata": {
  "kernelspec": {
   "display_name": "Python 3",
   "language": "python",
   "name": "python3"
  },
  "language_info": {
   "codemirror_mode": {
    "name": "ipython",
    "version": 3
   },
   "file_extension": ".py",
   "mimetype": "text/x-python",
   "name": "python",
   "nbconvert_exporter": "python",
   "pygments_lexer": "ipython3",
   "version": "3.8.3"
  }
 },
 "nbformat": 4,
 "nbformat_minor": 4
}
